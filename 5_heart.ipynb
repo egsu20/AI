{
  "nbformat": 4,
  "nbformat_minor": 0,
  "metadata": {
    "colab": {
      "name": "5.heart",
      "provenance": [],
      "collapsed_sections": [],
      "mount_file_id": "1ZeBnMkAKT_yKF3K6I-cn-fA7ynbZFOGi",
      "authorship_tag": "ABX9TyMmVARBtHQsii271N0ombaS"
    },
    "kernelspec": {
      "name": "python3",
      "display_name": "Python 3"
    },
    "accelerator": "GPU"
  },
  "cells": [
    {
      "cell_type": "markdown",
      "metadata": {
        "id": "kSOsCT15_qsn"
      },
      "source": [
        ""
      ]
    },
    {
      "cell_type": "markdown",
      "metadata": {
        "id": "WTQjZK-I_irH"
      },
      "source": [
        ""
      ]
    },
    {
      "cell_type": "markdown",
      "metadata": {
        "id": "7rrCj015_ty8"
      },
      "source": [
        "### Keras DNN으로 심장병 예측"
      ]
    },
    {
      "cell_type": "markdown",
      "metadata": {
        "id": "33NaUIF1_uhe"
      },
      "source": [
        "1. 패키지 수입 및 파라미터 지정"
      ]
    },
    {
      "cell_type": "code",
      "metadata": {
        "id": "4VNmnL7z_cWv"
      },
      "source": [
        "# 패키지 수입\r\n",
        "import pandas as pd\r\n",
        "import matplotlib.pyplot as plt\r\n",
        "import seaborn as sns\r\n",
        "import numpy as np\r\n",
        "\r\n",
        "from time import time\r\n",
        "from keras.models import Sequential\r\n",
        "from keras.layers import Dense\r\n",
        "from sklearn.model_selection import train_test_split\r\n",
        "from sklearn.preprocessing import StandardScaler\r\n",
        "from sklearn.metrics import f1_score, confusion_matrix"
      ],
      "execution_count": null,
      "outputs": []
    },
    {
      "cell_type": "code",
      "metadata": {
        "id": "yZpiSlvVBUcW"
      },
      "source": [
        "# 하이퍼 파라미터\r\n",
        "INPUT_DIM = 13 # 14개의 컬럼 중 입력값\r\n",
        "MY_SPLIT = 0.7 # 학습용 데이터를 0.7 정도로\r\n",
        "MY_HIDDEN = 500 # 은닉층 뉴런의 개수\r\n",
        "MY_EPOCH = 1000 # 반복 횟수\r\n",
        "\r\n",
        "# 추가 옵션\r\n",
        "pd.set_option('display.max_columns', None) # display.max_colmns를 None으로. 컬럼 생략 x\r\n",
        "np.random.seed(1234) # 실행할 때마다 결과가 달라지는 것 방지\r\n",
        "sns.set(font_scale=1.5)"
      ],
      "execution_count": null,
      "outputs": []
    },
    {
      "cell_type": "markdown",
      "metadata": {
        "id": "YAnhTjlsCuR2"
      },
      "source": [
        "2. 데이터 처리"
      ]
    },
    {
      "cell_type": "code",
      "metadata": {
        "colab": {
          "base_uri": "https://localhost:8080/",
          "height": 1000
        },
        "id": "qS6DHr5FCwK1",
        "outputId": "8dbede44-8917-4917-e962-82021c744aff"
      },
      "source": [
        "# 데이터 파일 읽기\r\n",
        "raw = pd.read_csv('/content/drive/MyDrive/Colab Notebooks/data/heart.csv')\r\n",
        "\r\n",
        "# 샘플 내용 확인 함수\r\n",
        "# 입력 데이터는 반드시 pandas의 데이터 프레임\r\n",
        "def show_sample(data):\r\n",
        "    # 샘플 출력\r\n",
        "    print('데이터 샘플 10개')\r\n",
        "    print(data.head(10))\r\n",
        "\r\n",
        "    # 통계 출력\r\n",
        "    print('데이터 통계')\r\n",
        "    print(data.describe())\r\n",
        "\r\n",
        "    # 상자 그림 출력\r\n",
        "    plt.figure(figsize=(15, 8))\r\n",
        "    sns.boxplot(data=data, palette='dark') # 후에 정규화 필요함\r\n",
        "\r\n",
        "show_sample(raw)"
      ],
      "execution_count": null,
      "outputs": [
        {
          "output_type": "stream",
          "text": [
            "데이터 샘플 10개\n",
            "   age  sex  cp  trestbps  chol  fbs  restecg  thalach  exang  oldpeak  slope  \\\n",
            "0   63    1   3       145   233    1        0      150      0      2.3      0   \n",
            "1   37    1   2       130   250    0        1      187      0      3.5      0   \n",
            "2   41    0   1       130   204    0        0      172      0      1.4      2   \n",
            "3   56    1   1       120   236    0        1      178      0      0.8      2   \n",
            "4   57    0   0       120   354    0        1      163      1      0.6      2   \n",
            "5   57    1   0       140   192    0        1      148      0      0.4      1   \n",
            "6   56    0   1       140   294    0        0      153      0      1.3      1   \n",
            "7   44    1   1       120   263    0        1      173      0      0.0      2   \n",
            "8   52    1   2       172   199    1        1      162      0      0.5      2   \n",
            "9   57    1   2       150   168    0        1      174      0      1.6      2   \n",
            "\n",
            "   ca  thal  target  \n",
            "0   0     1       1  \n",
            "1   0     2       1  \n",
            "2   0     2       1  \n",
            "3   0     2       1  \n",
            "4   0     2       1  \n",
            "5   0     1       1  \n",
            "6   0     2       1  \n",
            "7   0     3       1  \n",
            "8   0     3       1  \n",
            "9   0     2       1  \n",
            "데이터 통계\n",
            "              age         sex          cp    trestbps        chol         fbs  \\\n",
            "count  303.000000  303.000000  303.000000  303.000000  303.000000  303.000000   \n",
            "mean    54.366337    0.683168    0.966997  131.623762  246.264026    0.148515   \n",
            "std      9.082101    0.466011    1.032052   17.538143   51.830751    0.356198   \n",
            "min     29.000000    0.000000    0.000000   94.000000  126.000000    0.000000   \n",
            "25%     47.500000    0.000000    0.000000  120.000000  211.000000    0.000000   \n",
            "50%     55.000000    1.000000    1.000000  130.000000  240.000000    0.000000   \n",
            "75%     61.000000    1.000000    2.000000  140.000000  274.500000    0.000000   \n",
            "max     77.000000    1.000000    3.000000  200.000000  564.000000    1.000000   \n",
            "\n",
            "          restecg     thalach       exang     oldpeak       slope          ca  \\\n",
            "count  303.000000  303.000000  303.000000  303.000000  303.000000  303.000000   \n",
            "mean     0.528053  149.646865    0.326733    1.039604    1.399340    0.729373   \n",
            "std      0.525860   22.905161    0.469794    1.161075    0.616226    1.022606   \n",
            "min      0.000000   71.000000    0.000000    0.000000    0.000000    0.000000   \n",
            "25%      0.000000  133.500000    0.000000    0.000000    1.000000    0.000000   \n",
            "50%      1.000000  153.000000    0.000000    0.800000    1.000000    0.000000   \n",
            "75%      1.000000  166.000000    1.000000    1.600000    2.000000    1.000000   \n",
            "max      2.000000  202.000000    1.000000    6.200000    2.000000    4.000000   \n",
            "\n",
            "             thal      target  \n",
            "count  303.000000  303.000000  \n",
            "mean     2.313531    0.544554  \n",
            "std      0.612277    0.498835  \n",
            "min      0.000000    0.000000  \n",
            "25%      2.000000    0.000000  \n",
            "50%      2.000000    1.000000  \n",
            "75%      3.000000    1.000000  \n",
            "max      3.000000    1.000000  \n"
          ],
          "name": "stdout"
        },
        {
          "output_type": "display_data",
          "data": {
            "image/png": "[encoded data removed]",
            "text/plain": [
              "<Figure size 1080x576 with 1 Axes>"
            ]
          },
          "metadata": {
            "tags": []
          }
        }
      ]
    },
    {
      "cell_type": "code",
      "metadata": {
        "colab": {
          "base_uri": "https://localhost:8080/"
        },
        "id": "8ved6IWAF0Ru",
        "outputId": "08efe8dc-b36b-42b7-f46a-a0ec674e85d6"
      },
      "source": [
        "# 데이터 입력/출력 분할\r\n",
        "print(raw.shape)\r\n",
        "X_data = raw.drop('target', axis=1)\r\n",
        "\r\n",
        "print(X_data.shape)\r\n",
        "Y_data = raw['target']\r\n",
        "print(Y_data.shape)\r\n",
        "\r\n",
        "names = X_data.columns # 입력 데이터 13개 요소의 이름\r\n",
        "# z-점수 정규화로 열 명이 숫자로 바뀌는 것 처리\r\n",
        "print(names)"
      ],
      "execution_count": null,
      "outputs": [
        {
          "output_type": "stream",
          "text": [
            "(303, 14)\n",
            "(303, 13)\n",
            "(303,)\n",
            "Index(['age', 'sex', 'cp', 'trestbps', 'fbs', 'restecg', 'thalach', 'exang',\n",
            "       'oldpeak', 'slope', 'ca', 'thal', 'target'],\n",
            "      dtype='object')\n"
          ],
          "name": "stdout"
        }
      ]
    },
    {
      "cell_type": "code",
      "metadata": {
        "colab": {
          "base_uri": "https://localhost:8080/",
          "height": 1000
        },
        "id": "pTvAhI2UIFhX",
        "outputId": "fb918729-96c0-4c08-a87e-ec66ee7e9f14"
      },
      "source": [
        "# 입력 데이터 z-점수 정규화\r\n",
        "scaler = StandardScaler()\r\n",
        "print(type(X_data))\r\n",
        "\r\n",
        "X_data = scaler.fit_transform(X_data)\r\n",
        "print(type(X_data))\r\n",
        "\r\n",
        "# numpy를 pandas로 재전환, 컬럼명을 names로 \r\n",
        "X_data = pd.DataFrame(X_data, columns=names)\r\n",
        "# show_sample()은 pandas 데이터만 매개변수로\r\n",
        "show_sample(X_data)"
      ],
      "execution_count": null,
      "outputs": [
        {
          "output_type": "stream",
          "text": [
            "<class 'pandas.core.frame.DataFrame'>\n",
            "<class 'numpy.ndarray'>\n",
            "데이터 샘플 10개\n",
            "        age       sex        cp  trestbps       fbs   restecg   thalach  \\\n",
            "0  0.952197  0.681005  1.973123  0.763956  2.394438 -1.005832  0.015443   \n",
            "1 -1.915313  0.681005  1.002577 -0.092738 -0.417635  0.898962  1.633471   \n",
            "2 -1.474158 -1.468418  0.032031 -0.092738 -0.417635 -1.005832  0.977514   \n",
            "3  0.180175  0.681005  0.032031 -0.663867 -0.417635  0.898962  1.239897   \n",
            "4  0.290464 -1.468418 -0.938515 -0.663867 -0.417635  0.898962  0.583939   \n",
            "5  0.290464  0.681005 -0.938515  0.478391 -0.417635  0.898962 -0.072018   \n",
            "6  0.180175 -1.468418  0.032031  0.478391 -0.417635 -1.005832  0.146634   \n",
            "7 -1.143291  0.681005  0.032031 -0.663867 -0.417635  0.898962  1.021244   \n",
            "8 -0.260980  0.681005  1.002577  2.306004  2.394438  0.898962  0.540209   \n",
            "9  0.290464  0.681005  1.002577  1.049520 -0.417635  0.898962  1.064975   \n",
            "\n",
            "      exang   oldpeak     slope        ca      thal    target  \n",
            "0 -0.696631  1.087338 -2.274579 -0.714429 -2.148873  0.914529  \n",
            "1 -0.696631  2.122573 -2.274579 -0.714429 -0.512922  0.914529  \n",
            "2 -0.696631  0.310912  0.976352 -0.714429 -0.512922  0.914529  \n",
            "3 -0.696631 -0.206705  0.976352 -0.714429 -0.512922  0.914529  \n",
            "4  1.435481 -0.379244  0.976352 -0.714429 -0.512922  0.914529  \n",
            "5 -0.696631 -0.551783 -0.649113 -0.714429 -2.148873  0.914529  \n",
            "6 -0.696631  0.224643 -0.649113 -0.714429 -0.512922  0.914529  \n",
            "7 -0.696631 -0.896862  0.976352 -0.714429  1.123029  0.914529  \n",
            "8 -0.696631 -0.465514  0.976352 -0.714429  1.123029  0.914529  \n",
            "9 -0.696631  0.483451  0.976352 -0.714429 -0.512922  0.914529  \n",
            "데이터 통계\n",
            "                age           sex            cp      trestbps           fbs  \\\n",
            "count  3.030000e+02  3.030000e+02  3.030000e+02  3.030000e+02  3.030000e+02   \n",
            "mean   5.825923e-17 -1.319077e-17 -5.562565e-17 -7.146832e-16 -3.664102e-19   \n",
            "std    1.001654e+00  1.001654e+00  1.001654e+00  1.001654e+00  1.001654e+00   \n",
            "min   -2.797624e+00 -1.468418e+00 -9.385146e-01 -2.148802e+00 -4.176345e-01   \n",
            "25%   -7.572802e-01 -1.468418e+00 -9.385146e-01 -6.638668e-01 -4.176345e-01   \n",
            "50%    6.988599e-02  6.810052e-01  3.203122e-02 -9.273778e-02 -4.176345e-01   \n",
            "75%    7.316189e-01  6.810052e-01  1.002577e+00  4.783913e-01 -4.176345e-01   \n",
            "max    2.496240e+00  6.810052e-01  1.973123e+00  3.905165e+00  2.394438e+00   \n",
            "\n",
            "            restecg       thalach         exang       oldpeak         slope  \\\n",
            "count  3.030000e+02  3.030000e+02  3.030000e+02  3.030000e+02  3.030000e+02   \n",
            "mean   2.652810e-16 -5.203025e-16 -5.203025e-16 -3.140136e-16  1.355718e-16   \n",
            "std    1.001654e+00  1.001654e+00  1.001654e+00  1.001654e+00  1.001654e+00   \n",
            "min   -1.005832e+00 -3.439267e+00 -6.966305e-01 -8.968617e-01 -2.274579e+00   \n",
            "25%   -1.005832e+00 -7.061105e-01 -6.966305e-01 -8.968617e-01 -6.491132e-01   \n",
            "50%    8.989622e-01  1.466343e-01 -6.966305e-01 -2.067053e-01 -6.491132e-01   \n",
            "75%    8.989622e-01  7.151309e-01  1.435481e+00  4.834512e-01  9.763521e-01   \n",
            "max    2.803756e+00  2.289429e+00  1.435481e+00  4.451851e+00  9.763521e-01   \n",
            "\n",
            "                 ca          thal        target  \n",
            "count  3.030000e+02  3.030000e+02  3.030000e+02  \n",
            "mean   4.752341e-16  3.484561e-16  7.577364e-16  \n",
            "std    1.001654e+00  1.001654e+00  1.001654e+00  \n",
            "min   -7.144289e-01 -3.784824e+00 -1.093459e+00  \n",
            "25%   -7.144289e-01 -5.129219e-01 -1.093459e+00  \n",
            "50%   -7.144289e-01 -5.129219e-01  9.145292e-01  \n",
            "75%    2.650822e-01  1.123029e+00  9.145292e-01  \n",
            "max    3.203615e+00  1.123029e+00  9.145292e-01  \n"
          ],
          "name": "stdout"
        },
        {
          "output_type": "display_data",
          "data": {
            "image/png": "[encoded data removed]",
            "text/plain": [
              "<Figure size 1080x576 with 1 Axes>"
            ]
          },
          "metadata": {
            "tags": []
          }
        }
      ]
    },
    {
      "cell_type": "code",
      "metadata": {
        "colab": {
          "base_uri": "https://localhost:8080/"
        },
        "id": "L9Z20w3SN7dd",
        "outputId": "88f9695d-7887-4cc3-bc38-127987a5a88c"
      },
      "source": [
        "# 데이터를 학습용과 평가용으로 분할\r\n",
        "X_train, X_test, Y_train, Y_test = train_test_split(X_data,\r\n",
        "                                                    Y_data,\r\n",
        "                                                    train_size=MY_SPLIT,\r\n",
        "                                                    shuffle=True) \r\n",
        "                                                  # shuffle하는 것이 결과가 좋을 수 있음\r\n",
        "\r\n",
        "# 최종 데이터 모양 확인\r\n",
        "print('학습용 입력 데이터 모양 :', X_train.shape)\r\n",
        "print('학습용 출력 데이터 모양 :', Y_train.shape)\r\n",
        "print('평가용 입력 데이터 모양 :', X_test.shape)\r\n",
        "print('평가용 출력 데이터 모양 :', Y_test.shape)"
      ],
      "execution_count": null,
      "outputs": [
        {
          "output_type": "stream",
          "text": [
            "학습용 입력 데이터 모양 : (212, 13)\n",
            "학습용 출력 데이터 모양 : (212,)\n",
            "평가용 입력 데이터 모양 : (91, 13)\n",
            "평가용 출력 데이터 모양 : (91,)\n"
          ],
          "name": "stdout"
        }
      ]
    },
    {
      "cell_type": "markdown",
      "metadata": {
        "id": "IFE-BB_EPDN2"
      },
      "source": [
        "3. 인공신경망 구현"
      ]
    },
    {
      "cell_type": "code",
      "metadata": {
        "colab": {
          "base_uri": "https://localhost:8080/"
        },
        "id": "SuUAl4ZePFZt",
        "outputId": "5ebb6ce0-7cfa-4f6d-ed9a-7b0b58582d46"
      },
      "source": [
        "# DNN 구현\r\n",
        "model = Sequential()\r\n",
        "\r\n",
        "# 입력층과 은닉층 1 함께 추가\r\n",
        "model.add(Dense(units=MY_HIDDEN,\r\n",
        "                name='Dense-1', # 이름 고정\r\n",
        "                input_dim=INPUT_DIM,\r\n",
        "                activation='tanh'))\r\n",
        "\r\n",
        "# 은닉층 2 추가\r\n",
        "model.add(Dense(units=MY_HIDDEN,\r\n",
        "                name='Dense-2',\r\n",
        "                activation='tanh'))\r\n",
        "\r\n",
        "# 출력층 추가\r\n",
        "model.add(Dense(units=1,\r\n",
        "                name='Dense-3',\r\n",
        "                activation='sigmoid')) # tanh x\r\n",
        "\r\n",
        "print('DNN 요약')\r\n",
        "model.summary()"
      ],
      "execution_count": null,
      "outputs": [
        {
          "output_type": "stream",
          "text": [
            "DNN 요약\n",
            "Model: \"sequential\"\n",
            "_________________________________________________________________\n",
            "Layer (type)                 Output Shape              Param #   \n",
            "=================================================================\n",
            "Dense-1 (Dense)              (None, 500)               7000      \n",
            "_________________________________________________________________\n",
            "Dense-2 (Dense)              (None, 500)               250500    \n",
            "_________________________________________________________________\n",
            "Dense-3 (Dense)              (None, 1)                 501       \n",
            "=================================================================\n",
            "Total params: 258,001\n",
            "Trainable params: 258,001\n",
            "Non-trainable params: 0\n",
            "_________________________________________________________________\n"
          ],
          "name": "stdout"
        }
      ]
    },
    {
      "cell_type": "markdown",
      "metadata": {
        "id": "fVaT4Y17Sp8t"
      },
      "source": [
        "4. 인공신경망 학습"
      ]
    },
    {
      "cell_type": "code",
      "metadata": {
        "colab": {
          "base_uri": "https://localhost:8080/"
        },
        "id": "d6PRdesXSvH9",
        "outputId": "bb429087-c2c6-4770-ed0e-0a36fc401dba"
      },
      "source": [
        "# 학습 방법론 설정\r\n",
        "model.compile(optimizer='adam',\r\n",
        "              loss='binary_crossentropy',\r\n",
        "              metrics=['acc'])\r\n",
        "\r\n",
        "# DNN 학습\r\n",
        "begin = time()\r\n",
        "print('학습 시작')\r\n",
        "\r\n",
        "model.fit(x=X_train,\r\n",
        "          y=Y_train,\r\n",
        "          epochs=MY_EPOCH,\r\n",
        "          verbose=0)\r\n",
        "\r\n",
        "end = time()\r\n",
        "print('학습 시간 : {:.2f}'.format(end - begin)) # GPU로 실행하기\r\n"
      ],
      "execution_count": null,
      "outputs": [
        {
          "output_type": "stream",
          "text": [
            "학습 시작\n",
            "학습 시간 : 14.49\n"
          ],
          "name": "stdout"
        }
      ]
    },
    {
      "cell_type": "markdown",
      "metadata": {
        "id": "bUCfn3ETVVcW"
      },
      "source": [
        "5. 인공신경망 평가"
      ]
    },
    {
      "cell_type": "code",
      "metadata": {
        "id": "hyBOBnuTVVH9",
        "colab": {
          "base_uri": "https://localhost:8080/"
        },
        "outputId": "52ea94d8-2143-4a4a-bd4b-5bad0f4ea297"
      },
      "source": [
        "# DNN 평가\r\n",
        "score = model.evaluate(x=X_test,\r\n",
        "                       y=Y_test,\r\n",
        "                       verbose=0)\r\n",
        "\r\n",
        "print('최종 손실값 : {:.2f}'.format(score[0]))\r\n",
        "print('최종 정확도 : {:.2f}'.format(score[1]))"
      ],
      "execution_count": null,
      "outputs": [
        {
          "output_type": "stream",
          "text": [
            "최종 손실값 : 0.00\n",
            "최종 정확도 : 1.00\n"
          ],
          "name": "stdout"
        }
      ]
    },
    {
      "cell_type": "markdown",
      "metadata": {
        "id": "L8-ycvLRWVOm"
      },
      "source": [
        "6. 인공 신경망 예측"
      ]
    },
    {
      "cell_type": "code",
      "metadata": {
        "colab": {
          "base_uri": "https://localhost:8080/"
        },
        "id": "lMG3r66hWZOt",
        "outputId": "f07ae182-81fb-4dac-fe1a-954e7d7582fd"
      },
      "source": [
        "# DNN 예측\r\n",
        "pred = model.predict(x=X_test) # 0~1 사이의 simoid 된 값 91개\r\n",
        "# 정답은 2진수, 예측값은 소수이므로 둘의 형식을 같게 해주어야 함\r\n",
        "pred = (pred > 0.5) # 조건식에 대해 True/False로 바뀜\r\n",
        "\r\n",
        "print(pred.flatten())\r\n",
        "print(Y_test.tolist())\r\n",
        "\r\n",
        "# 혼동 행렬 출력 \r\n",
        "print('혼동 행렬')\r\n",
        "\r\n",
        "print(confusion_matrix(y_true=Y_test, # 정답\r\n",
        "                       y_pred=pred)) # 추측값"
      ],
      "execution_count": null,
      "outputs": [
        {
          "output_type": "stream",
          "text": [
            "[False  True  True False False  True False False False False False False\n",
            " False  True False False False  True  True  True  True  True  True False\n",
            "  True  True False False False  True  True  True  True False  True False\n",
            " False  True  True  True  True False  True False  True  True  True False\n",
            " False False  True False  True False False  True  True  True  True  True\n",
            "  True False False  True  True  True  True  True  True  True  True False\n",
            " False  True False False False  True  True  True False False False  True\n",
            "  True  True  True False False  True  True]\n",
            "[0, 1, 1, 0, 0, 1, 0, 0, 0, 0, 0, 0, 0, 1, 0, 0, 0, 1, 1, 1, 1, 1, 1, 0, 1, 1, 0, 0, 0, 1, 1, 1, 1, 0, 1, 0, 0, 1, 1, 1, 1, 0, 1, 0, 1, 1, 1, 0, 0, 0, 1, 0, 1, 0, 0, 1, 1, 1, 1, 1, 1, 0, 0, 1, 1, 1, 1, 1, 1, 1, 1, 0, 0, 1, 0, 0, 0, 1, 1, 1, 0, 0, 0, 1, 1, 1, 1, 0, 0, 1, 1]\n",
            "혼동 행렬\n",
            "[[40  0]\n",
            " [ 0 51]]\n"
          ],
          "name": "stdout"
        }
      ]
    },
    {
      "cell_type": "code",
      "metadata": {
        "colab": {
          "base_uri": "https://localhost:8080/"
        },
        "id": "wLyiGHEbtcdI",
        "outputId": "015bdb28-8723-4a36-d3b0-8f46596fc4c4"
      },
      "source": [
        "# F1 점수 출력\r\n",
        "f1 = f1_score(y_true=Y_test,\r\n",
        "              y_pred=pred,\r\n",
        "              average='micro')\r\n",
        "\r\n",
        "print('F1 점수 : {:.2f}'.format(f1)) # evaluate가 미리 계산함\r\n"
      ],
      "execution_count": null,
      "outputs": [
        {
          "output_type": "stream",
          "text": [
            "F1 점수 : 1.00\n"
          ],
          "name": "stdout"
        }
      ]
    }
  ]
}
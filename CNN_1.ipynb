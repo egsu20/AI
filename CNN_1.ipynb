{
  "nbformat": 4,
  "nbformat_minor": 0,
  "metadata": {
    "colab": {
      "name": "CNN-1",
      "provenance": [],
      "collapsed_sections": []
    },
    "kernelspec": {
      "name": "python3",
      "display_name": "Python 3"
    },
    "accelerator": "GPU"
  },
  "cells": [
    {
      "cell_type": "markdown",
      "metadata": {
        "id": "mB70WKKXX-kk"
      },
      "source": [
        "### Keras CNN으로 패션 아이템 구분하기"
      ]
    },
    {
      "cell_type": "markdown",
      "metadata": {
        "id": "8aXWg5DXYH1L"
      },
      "source": [
        "1. 패키지 수입 및 하이퍼 파라미터 지정"
      ]
    },
    {
      "cell_type": "code",
      "metadata": {
        "id": "v2jtrCGoOZ10"
      },
      "source": [
        "# 패키지 수입\r\n",
        "import matplotlib.pyplot as plt\r\n",
        "import numpy as np\r\n",
        "\r\n",
        "from time import time\r\n",
        "from keras.datasets import fashion_mnist # 사분할이 된 데이터\r\n",
        "from keras.models import Sequential\r\n",
        "from keras.utils import np_utils\r\n",
        "\r\n",
        "from keras.layers import Flatten\r\n",
        "from keras.layers import Dense, MaxPool2D\r\n",
        "from keras.layers import Conv2D, InputLayer"
      ],
      "execution_count": 51,
      "outputs": []
    },
    {
      "cell_type": "code",
      "metadata": {
        "id": "Khn3JuBUZu_D"
      },
      "source": [
        "# 하이퍼 파라미터\r\n",
        "MY_EPOCH = 15 # 반복 학습 횟수. 데이터가 많기 때문에 가급적 낮은 수\r\n",
        "MY_BATCH = 500 # 학습용 데이터를 몇 개 가져와서 계산할 지"
      ],
      "execution_count": 52,
      "outputs": []
    },
    {
      "cell_type": "markdown",
      "metadata": {
        "id": "j8IxFaeYc4hy"
      },
      "source": [
        "2. 데이터 처리"
      ]
    },
    {
      "cell_type": "code",
      "metadata": {
        "colab": {
          "base_uri": "https://localhost:8080/"
        },
        "id": "vsFjI4-Sc7Ax",
        "outputId": "fcb91398-3292-4936-f613-73a4b4adddca"
      },
      "source": [
        "# 데이터 불러오기\r\n",
        "(X_train, Y_train), (X_test, Y_test) = fashion_mnist.load_data() # 사분할이 완료된 데이터\r\n",
        "\r\n",
        "print('학습용 입력 데이터 :', X_train.shape) # 3차원. (60000,28,28)이 출력. 28X28 화소가 60000개\r\n",
        "print('학습용 출력 데이터 :', Y_train.shape) # 1차원 벡터\r\n",
        "print('평가용 입력 데이터 :', X_test.shape)\r\n",
        "print('평가용 출력 데이터 :', Y_test.shape)"
      ],
      "execution_count": 53,
      "outputs": [
        {
          "output_type": "stream",
          "text": [
            "학습용 입력 데이터 : (60000, 28, 28)\n",
            "학습용 출력 데이터 : (60000,)\n",
            "평가용 입력 데이터 : (10000, 28, 28)\n",
            "평가용 출력 데이터 : (10000,)\n"
          ],
          "name": "stdout"
        }
      ]
    },
    {
      "cell_type": "code",
      "metadata": {
        "colab": {
          "base_uri": "https://localhost:8080/",
          "height": 1000
        },
        "id": "GcrsI0zAeith",
        "outputId": "87040207-e0aa-4456-c1d3-0847db69e71f"
      },
      "source": [
        "# 데이터 샘플 출력\r\n",
        "print('학습용 데이터 첫번째 이미지의 화소 정보')\r\n",
        "print(X_train[0])\r\n",
        "plt.figure(figsize=(10,10))\r\n",
        "plt.imshow(X_train[0], cmap='gray')\r\n",
        "print('학습용 데이터 첫번째 이미지의 라벨 :',Y_train[0])"
      ],
      "execution_count": 54,
      "outputs": [
        {
          "output_type": "stream",
          "text": [
            "학습용 데이터 첫번째 이미지의 화소 정보\n",
            "[[  0   0   0   0   0   0   0   0   0   0   0   0   0   0   0   0   0   0\n",
            "    0   0   0   0   0   0   0   0   0   0]\n",
            " [  0   0   0   0   0   0   0   0   0   0   0   0   0   0   0   0   0   0\n",
            "    0   0   0   0   0   0   0   0   0   0]\n",
            " [  0   0   0   0   0   0   0   0   0   0   0   0   0   0   0   0   0   0\n",
            "    0   0   0   0   0   0   0   0   0   0]\n",
            " [  0   0   0   0   0   0   0   0   0   0   0   0   1   0   0  13  73   0\n",
            "    0   1   4   0   0   0   0   1   1   0]\n",
            " [  0   0   0   0   0   0   0   0   0   0   0   0   3   0  36 136 127  62\n",
            "   54   0   0   0   1   3   4   0   0   3]\n",
            " [  0   0   0   0   0   0   0   0   0   0   0   0   6   0 102 204 176 134\n",
            "  144 123  23   0   0   0   0  12  10   0]\n",
            " [  0   0   0   0   0   0   0   0   0   0   0   0   0   0 155 236 207 178\n",
            "  107 156 161 109  64  23  77 130  72  15]\n",
            " [  0   0   0   0   0   0   0   0   0   0   0   1   0  69 207 223 218 216\n",
            "  216 163 127 121 122 146 141  88 172  66]\n",
            " [  0   0   0   0   0   0   0   0   0   1   1   1   0 200 232 232 233 229\n",
            "  223 223 215 213 164 127 123 196 229   0]\n",
            " [  0   0   0   0   0   0   0   0   0   0   0   0   0 183 225 216 223 228\n",
            "  235 227 224 222 224 221 223 245 173   0]\n",
            " [  0   0   0   0   0   0   0   0   0   0   0   0   0 193 228 218 213 198\n",
            "  180 212 210 211 213 223 220 243 202   0]\n",
            " [  0   0   0   0   0   0   0   0   0   1   3   0  12 219 220 212 218 192\n",
            "  169 227 208 218 224 212 226 197 209  52]\n",
            " [  0   0   0   0   0   0   0   0   0   0   6   0  99 244 222 220 218 203\n",
            "  198 221 215 213 222 220 245 119 167  56]\n",
            " [  0   0   0   0   0   0   0   0   0   4   0   0  55 236 228 230 228 240\n",
            "  232 213 218 223 234 217 217 209  92   0]\n",
            " [  0   0   1   4   6   7   2   0   0   0   0   0 237 226 217 223 222 219\n",
            "  222 221 216 223 229 215 218 255  77   0]\n",
            " [  0   3   0   0   0   0   0   0   0  62 145 204 228 207 213 221 218 208\n",
            "  211 218 224 223 219 215 224 244 159   0]\n",
            " [  0   0   0   0  18  44  82 107 189 228 220 222 217 226 200 205 211 230\n",
            "  224 234 176 188 250 248 233 238 215   0]\n",
            " [  0  57 187 208 224 221 224 208 204 214 208 209 200 159 245 193 206 223\n",
            "  255 255 221 234 221 211 220 232 246   0]\n",
            " [  3 202 228 224 221 211 211 214 205 205 205 220 240  80 150 255 229 221\n",
            "  188 154 191 210 204 209 222 228 225   0]\n",
            " [ 98 233 198 210 222 229 229 234 249 220 194 215 217 241  65  73 106 117\n",
            "  168 219 221 215 217 223 223 224 229  29]\n",
            " [ 75 204 212 204 193 205 211 225 216 185 197 206 198 213 240 195 227 245\n",
            "  239 223 218 212 209 222 220 221 230  67]\n",
            " [ 48 203 183 194 213 197 185 190 194 192 202 214 219 221 220 236 225 216\n",
            "  199 206 186 181 177 172 181 205 206 115]\n",
            " [  0 122 219 193 179 171 183 196 204 210 213 207 211 210 200 196 194 191\n",
            "  195 191 198 192 176 156 167 177 210  92]\n",
            " [  0   0  74 189 212 191 175 172 175 181 185 188 189 188 193 198 204 209\n",
            "  210 210 211 188 188 194 192 216 170   0]\n",
            " [  2   0   0   0  66 200 222 237 239 242 246 243 244 221 220 193 191 179\n",
            "  182 182 181 176 166 168  99  58   0   0]\n",
            " [  0   0   0   0   0   0   0  40  61  44  72  41  35   0   0   0   0   0\n",
            "    0   0   0   0   0   0   0   0   0   0]\n",
            " [  0   0   0   0   0   0   0   0   0   0   0   0   0   0   0   0   0   0\n",
            "    0   0   0   0   0   0   0   0   0   0]\n",
            " [  0   0   0   0   0   0   0   0   0   0   0   0   0   0   0   0   0   0\n",
            "    0   0   0   0   0   0   0   0   0   0]]\n",
            "학습용 데이터 첫번째 이미지의 라벨 : 9\n"
          ],
          "name": "stdout"
        },
        {
          "output_type": "display_data",
          "data": {
            "image/png": "[encoded data removed]",
            "text/plain": [
              "<Figure size 720x720 with 1 Axes>"
            ]
          },
          "metadata": {
            "tags": [],
            "needs_background": "light"
          }
        }
      ]
    },
    {
      "cell_type": "code",
      "metadata": {
        "id": "YOa_ZQAygdXI"
      },
      "source": [
        "# 데이터 스케일링\r\n",
        "X_train = X_train / 255.0 # 0 ~ 1 사이의 수가 됨\r\n",
        "# print(X_train[0])\r\n",
        "X_test = X_test / 255.0\r\n",
        "\r\n",
        "# 데이터 모양 정보 전환 - 이미지 채널 정보 추가(합성곱 함수를 사용하기 위해서 필요!)\r\n",
        "X_train = X_train.reshape(60000, 28, 28, 1) # 4차원으로 전환. 마지막 1은 채널 정보로 직접 추가해 줘야 함\r\n",
        "X_test = X_test.reshape(10000, 28, 28, 1)"
      ],
      "execution_count": 55,
      "outputs": []
    },
    {
      "cell_type": "code",
      "metadata": {
        "colab": {
          "base_uri": "https://localhost:8080/"
        },
        "id": "xyVYpvDAicvx",
        "outputId": "04072c60-2b68-4066-bb60-2247f3c06122"
      },
      "source": [
        "# 라벨 정보 수정\r\n",
        "Y_train = np_utils.to_categorical(Y_train,10) # 원 핫 인코딩 \r\n",
        "print('학습용 데이터 첫번째 이미지의 라벨 :',Y_train[0])\r\n",
        "Y_test = np_utils.to_categorical(Y_test,10) # 원 핫 인코딩 \r\n",
        "\r\n",
        "print('학습용 입력 데이터 :', X_train.shape) # (60000,28,28,1)이 출력.\r\n",
        "print('학습용 출력 데이터 :', Y_train.shape) # (60000, 10)이 출력\r\n",
        "print('평가용 입력 데이터 :', X_test.shape) # (60000,28,28,1)이 출력.\r\n",
        "print('평가용 출력 데이터 :', Y_test.shape) # (10000, 10)이 출력"
      ],
      "execution_count": 56,
      "outputs": [
        {
          "output_type": "stream",
          "text": [
            "학습용 데이터 첫번째 이미지의 라벨 : [0. 0. 0. 0. 0. 0. 0. 0. 0. 1.]\n",
            "학습용 입력 데이터 : (60000, 28, 28, 1)\n",
            "학습용 출력 데이터 : (60000, 10)\n",
            "평가용 입력 데이터 : (10000, 28, 28, 1)\n",
            "평가용 출력 데이터 : (10000, 10)\n"
          ],
          "name": "stdout"
        }
      ]
    },
    {
      "cell_type": "markdown",
      "metadata": {
        "id": "9DrmApIxk5LX"
      },
      "source": [
        "3. 인공 신경망 구현"
      ]
    },
    {
      "cell_type": "code",
      "metadata": {
        "colab": {
          "base_uri": "https://localhost:8080/"
        },
        "id": "nLR1z9-fk7mu",
        "outputId": "6afb7a45-60ff-4ba5-daf3-6dd5419e24a9"
      },
      "source": [
        "# CNN 구현\r\n",
        "model = Sequential()\r\n",
        "model.add(InputLayer(input_shape=(28, 28, 1)))\r\n",
        "\r\n",
        "# 첫번째 합성곱 블럭\r\n",
        "model.add(Conv2D(filters=32, # 만들 이미지의 개수\r\n",
        "                 kernel_size=2, # 필터 크기\r\n",
        "                 padding='same', # 합성곱 전과 후의 화소수 유지\r\n",
        "                 activation='tanh')) # 음수는 0으로\r\n",
        "\r\n",
        "model.add(MaxPool2D(pool_size=2)) # 풀링. 2배로 줄어듦\r\n",
        "\r\n",
        "# 두번째 합성곱 블럭\r\n",
        "model.add(Conv2D(filters=64, # 학습용 데이터를 몇 개 가져와서 계산할 지\r\n",
        "                 kernel_size=2,\r\n",
        "                 padding='same',\r\n",
        "                 activation='tanh'))\r\n",
        "             \r\n",
        "model.add(MaxPool2D(pool_size=2)) # 2배로 줄어듦\r\n",
        "\r\n",
        "# DNN 입성\r\n",
        "model.add(Flatten()) # 남아있는 화소들을 은닉층 뉴런으로\r\n",
        "\r\n",
        "model.add(Dense(units=128,\r\n",
        "                activation='tanh')) # 은닉층에 몇개의 뉴런이 있는지 지정\r\n",
        "\r\n",
        "# Softmax : 0~1 사이의 값. 확률을 구하는 것. 출력의 총합은 1\r\n",
        "model.add(Dense(units=10, # 활성화 아이템이 10 종류\r\n",
        "                activation='softmax')) # relu X\r\n",
        "\r\n",
        "print('* CNN 요약 *')\r\n",
        "model.summary()\r\n"
      ],
      "execution_count": 57,
      "outputs": [
        {
          "output_type": "stream",
          "text": [
            "* CNN 요약 *\n",
            "Model: \"sequential_5\"\n",
            "_________________________________________________________________\n",
            "Layer (type)                 Output Shape              Param #   \n",
            "=================================================================\n",
            "conv2d_10 (Conv2D)           (None, 28, 28, 32)        160       \n",
            "_________________________________________________________________\n",
            "max_pooling2d_10 (MaxPooling (None, 14, 14, 32)        0         \n",
            "_________________________________________________________________\n",
            "conv2d_11 (Conv2D)           (None, 14, 14, 64)        8256      \n",
            "_________________________________________________________________\n",
            "max_pooling2d_11 (MaxPooling (None, 7, 7, 64)          0         \n",
            "_________________________________________________________________\n",
            "flatten_5 (Flatten)          (None, 3136)              0         \n",
            "_________________________________________________________________\n",
            "dense_10 (Dense)             (None, 128)               401536    \n",
            "_________________________________________________________________\n",
            "dense_11 (Dense)             (None, 10)                1290      \n",
            "=================================================================\n",
            "Total params: 411,242\n",
            "Trainable params: 411,242\n",
            "Non-trainable params: 0\n",
            "_________________________________________________________________\n"
          ],
          "name": "stdout"
        }
      ]
    },
    {
      "cell_type": "markdown",
      "metadata": {
        "id": "3LZPfOHIw05q"
      },
      "source": [
        "4. 인공 신경망 학습"
      ]
    },
    {
      "cell_type": "code",
      "metadata": {
        "colab": {
          "base_uri": "https://localhost:8080/"
        },
        "id": "WUxD_OFqw1jS",
        "outputId": "5bcce5cd-e87c-4b41-c535-75ba31c985a2"
      },
      "source": [
        "# 학습 방식 설정\r\n",
        "model.compile(optimizer='adam',\r\n",
        "              loss='mse', \r\n",
        "              metrics=['acc'])\r\n",
        "\r\n",
        "# CNN 학습\r\n",
        "print('학습 시작')\r\n",
        "begin = time()\r\n",
        "\r\n",
        "model.fit(x=X_train,\r\n",
        "          y=Y_train,\r\n",
        "          epochs=MY_EPOCH,\r\n",
        "          batch_size=MY_BATCH, \r\n",
        "          verbose=1) # 학습 진행 내용 출력?\r\n",
        "\r\n",
        "end = time()\r\n",
        "print('학습 시간: {:.2f}'.format(end-begin)) # GPU로 설정해보기"
      ],
      "execution_count": 58,
      "outputs": [
        {
          "output_type": "stream",
          "text": [
            "학습 시작\n",
            "Epoch 1/15\n",
            "120/120 [==============================] - 2s 11ms/step - loss: 0.0403 - acc: 0.6986\n",
            "Epoch 2/15\n",
            "120/120 [==============================] - 1s 10ms/step - loss: 0.0195 - acc: 0.8654\n",
            "Epoch 3/15\n",
            "120/120 [==============================] - 1s 10ms/step - loss: 0.0169 - acc: 0.8840\n",
            "Epoch 4/15\n",
            "120/120 [==============================] - 1s 10ms/step - loss: 0.0153 - acc: 0.8959\n",
            "Epoch 5/15\n",
            "120/120 [==============================] - 1s 10ms/step - loss: 0.0143 - acc: 0.9032\n",
            "Epoch 6/15\n",
            "120/120 [==============================] - 1s 10ms/step - loss: 0.0135 - acc: 0.9085\n",
            "Epoch 7/15\n",
            "120/120 [==============================] - 1s 10ms/step - loss: 0.0123 - acc: 0.9171\n",
            "Epoch 8/15\n",
            "120/120 [==============================] - 1s 10ms/step - loss: 0.0115 - acc: 0.9242\n",
            "Epoch 9/15\n",
            "120/120 [==============================] - 1s 10ms/step - loss: 0.0111 - acc: 0.9275\n",
            "Epoch 10/15\n",
            "120/120 [==============================] - 1s 10ms/step - loss: 0.0104 - acc: 0.9323\n",
            "Epoch 11/15\n",
            "120/120 [==============================] - 1s 10ms/step - loss: 0.0101 - acc: 0.9338\n",
            "Epoch 12/15\n",
            "120/120 [==============================] - 1s 10ms/step - loss: 0.0096 - acc: 0.9381\n",
            "Epoch 13/15\n",
            "120/120 [==============================] - 1s 10ms/step - loss: 0.0089 - acc: 0.9431\n",
            "Epoch 14/15\n",
            "120/120 [==============================] - 1s 10ms/step - loss: 0.0085 - acc: 0.9464\n",
            "Epoch 15/15\n",
            "120/120 [==============================] - 1s 10ms/step - loss: 0.0083 - acc: 0.9476\n",
            "학습 시간: 18.63\n"
          ],
          "name": "stdout"
        }
      ]
    },
    {
      "cell_type": "markdown",
      "metadata": {
        "id": "CncBZwKlySST"
      },
      "source": [
        "5. CNN 평가"
      ]
    },
    {
      "cell_type": "code",
      "metadata": {
        "colab": {
          "base_uri": "https://localhost:8080/"
        },
        "id": "lK_Lc_X7ySBp",
        "outputId": "a67d430a-2e29-4e52-8397-f733863d88bb"
      },
      "source": [
        "# CNN 평가\r\n",
        "score = model.evaluate(x=X_test,\r\n",
        "                       y=Y_test,\r\n",
        "                       verbose=1)\r\n",
        "\r\n",
        "print('최종 손실값 : {:.2f}'.format(score[0]))\r\n",
        "print('최종 정확도 : {:.2f}'.format(score[1]))"
      ],
      "execution_count": 59,
      "outputs": [
        {
          "output_type": "stream",
          "text": [
            "313/313 [==============================] - 1s 2ms/step - loss: 0.0131 - acc: 0.9104\n",
            "최종 손실값 : 0.01\n",
            "최종 정확도 : 0.91\n"
          ],
          "name": "stdout"
        }
      ]
    },
    {
      "cell_type": "markdown",
      "metadata": {
        "id": "_Kj2V2XvzF5O"
      },
      "source": [
        "6. CNN 예측"
      ]
    },
    {
      "cell_type": "code",
      "metadata": {
        "colab": {
          "base_uri": "https://localhost:8080/",
          "height": 720
        },
        "id": "l3-1299LzIts",
        "outputId": "1fef154c-fa92-46af-cc8a-b3517bdc32ed"
      },
      "source": [
        "# 샘플 이미지 지정\r\n",
        "image = X_test[0]\r\n",
        "print(image.shape)\r\n",
        "\r\n",
        "# batch 정보 추가. (이미지 수,가운데는 화소 정보, 채널 정보)\r\n",
        "# 기계학습에서 batch의 역할 : 매번 학습용 데이터를 몇 개 가져와서 계산하는지 지정\r\n",
        "image = image.reshape(1, 28, 28, 1)\r\n",
        "pred = model.predict(image)\r\n",
        "\r\n",
        "# 정보 출력 - SOFT MAX된 10개의 확률이 출력됨\r\n",
        "print('CNN 예측 값 :', pred) # 확률이 가장 높은 것이 정답일 것이다\r\n",
        "print('정답 :', Y_test[0])\r\n",
        "\r\n",
        "# 사진을 출력할 때 채널 정보를 없애 주어야 함\r\n",
        "plt.figure(figsize=(10,10))\r\n",
        "tmp = X_train[1234].reshape(28, 28)\r\n",
        "tmp = tmp * 255 # 정규화를 다시 돌림\r\n",
        "plt.imshow(tmp, cmap='gray')"
      ],
      "execution_count": 60,
      "outputs": [
        {
          "output_type": "stream",
          "text": [
            "(28, 28, 1)\n",
            "WARNING:tensorflow:6 out of the last 6 calls to <function Model.make_predict_function.<locals>.predict_function at 0x7f1156fbf6a8> triggered tf.function retracing. Tracing is expensive and the excessive number of tracings could be due to (1) creating @tf.function repeatedly in a loop, (2) passing tensors with different shapes, (3) passing Python objects instead of tensors. For (1), please define your @tf.function outside of the loop. For (2), @tf.function has experimental_relax_shapes=True option that relaxes argument shapes that can avoid unnecessary retracing. For (3), please refer to https://www.tensorflow.org/guide/function#controlling_retracing and https://www.tensorflow.org/api_docs/python/tf/function for  more details.\n",
            "CNN 예측 값 : [[1.8858302e-07 6.5341300e-07 5.2024548e-06 7.4888663e-07 2.7167810e-06\n",
            "  2.3671723e-04 5.7321877e-06 8.0517289e-04 1.9034909e-05 9.9892384e-01]]\n",
            "정답 : [0. 0. 0. 0. 0. 0. 0. 0. 0. 1.]\n"
          ],
          "name": "stdout"
        },
        {
          "output_type": "execute_result",
          "data": {
            "text/plain": [
              "<matplotlib.image.AxesImage at 0x7f11565f4710>"
            ]
          },
          "metadata": {
            "tags": []
          },
          "execution_count": 60
        },
        {
          "output_type": "display_data",
          "data": {
            "image/png": "[encoded data removed]",
            "text/plain": [
              "<Figure size 720x720 with 1 Axes>"
            ]
          },
          "metadata": {
            "tags": [],
            "needs_background": "light"
          }
        }
      ]
    }
  ]
}
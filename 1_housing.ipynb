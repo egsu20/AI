{
  "nbformat": 4,
  "nbformat_minor": 0,
  "metadata": {
    "colab": {
      "name": "1. housing",
      "provenance": [],
      "collapsed_sections": [],
      "toc_visible": true,
      "mount_file_id": "1_DwlpcJWEcX2h6xa8x-QrbNJwaBZF9Yj",
      "authorship_tag": "ABX9TyN17o6cFjbsSfYqbJPocdTw"
    },
    "kernelspec": {
      "name": "python3",
      "display_name": "Python 3"
    },
    "accelerator": "GPU"
  },
  "cells": [
    {
      "cell_type": "markdown",
      "metadata": {
        "id": "W--vroPkJlcY"
      },
      "source": [
        "### Keras DNN으로 집값 예측하기"
      ]
    },
    {
      "cell_type": "markdown",
      "metadata": {
        "id": "z5sasEmwJ5Oo"
      },
      "source": [
        "1. 패키지 수입 및 하이퍼 파라미터 지정"
      ]
    },
    {
      "cell_type": "code",
      "metadata": {
        "id": "9LzhdX_TI1IZ"
      },
      "source": [
        "# 수입\r\n",
        "import pandas as pd\r\n",
        "import matplotlib.pyplot as plt\r\n",
        "import seaborn as sns \r\n",
        "# 대부분의 alias는 모듈을 만든 사람이 처음 사용하던 별명과 동일하게 사용\r\n",
        "from time import time\r\n",
        "\r\n",
        "from keras.models import Sequential\r\n",
        "from keras.layers import Dense\r\n",
        "from sklearn.preprocessing import StandardScaler\r\n",
        "from sklearn.model_selection import train_test_split"
      ],
      "execution_count": null,
      "outputs": []
    },
    {
      "cell_type": "code",
      "metadata": {
        "id": "xXAFJHaXNoCf"
      },
      "source": [
        "# 하이퍼 파라미터\r\n",
        "MY_HIDDEN = 1000\r\n",
        "MY_EPOCH = 500\r\n",
        "\r\n",
        "# print()할 때 column 데이터가 생략되는 것 방지\r\n",
        "pd.set_option('display.max_columns', None)"
      ],
      "execution_count": null,
      "outputs": []
    },
    {
      "cell_type": "markdown",
      "metadata": {
        "id": "bO7Wztg0OkkH"
      },
      "source": [
        "2. 데이터 불러 오기 및 선처리"
      ]
    },
    {
      "cell_type": "code",
      "metadata": {
        "id": "o4mNqAN7Oqfe",
        "colab": {
          "base_uri": "https://localhost:8080/"
        },
        "outputId": "5c0b3c47-a1f6-4bd5-b166-1e104db91ec5"
      },
      "source": [
        "# 데이터 파일 읽기 \r\n",
        "raw = pd.read_csv('/content/drive/MyDrive/Colab Notebooks/data/housing.csv') # read_csv : csv 파일을 읽어라\r\n",
        "\r\n",
        "# 데이터 샘플 10개 출력\r\n",
        "print(raw.head(10)) # 처음 10개의 데이터 불러옴\r\n",
        "\r\n",
        "# 원본 데이터 통계\r\n",
        "print(raw.describe())"
      ],
      "execution_count": null,
      "outputs": [
        {
          "output_type": "stream",
          "text": [
            "      CRIM    ZN  INDUS  CHAS    NOX     RM    AGE     DIS  RAD  TAX  PTRATIO  \\\n",
            "0  0.00632  18.0   2.31     0  0.538  6.575   65.2  4.0900    1  296     15.3   \n",
            "1  0.02731   0.0   7.07     0  0.469  6.421   78.9  4.9671    2  242     17.8   \n",
            "2  0.02729   0.0   7.07     0  0.469  7.185   61.1  4.9671    2  242     17.8   \n",
            "3  0.03237   0.0   2.18     0  0.458  6.998   45.8  6.0622    3  222     18.7   \n",
            "4  0.06905   0.0   2.18     0  0.458  7.147   54.2  6.0622    3  222     18.7   \n",
            "5  0.02985   0.0   2.18     0  0.458  6.430   58.7  6.0622    3  222     18.7   \n",
            "6  0.08829  12.5   7.87     0  0.524  6.012   66.6  5.5605    5  311     15.2   \n",
            "7  0.14455  12.5   7.87     0  0.524  6.172   96.1  5.9505    5  311     15.2   \n",
            "8  0.21124  12.5   7.87     0  0.524  5.631  100.0  6.0821    5  311     15.2   \n",
            "9  0.17004  12.5   7.87     0  0.524  6.004   85.9  6.5921    5  311     15.2   \n",
            "\n",
            "   LSTAT  MEDV  \n",
            "0   4.98  24.0  \n",
            "1   9.14  21.6  \n",
            "2   4.03  34.7  \n",
            "3   2.94  33.4  \n",
            "4   5.33  36.2  \n",
            "5   5.21  28.7  \n",
            "6  12.43  22.9  \n",
            "7  19.15  27.1  \n",
            "8  29.93  16.5  \n",
            "9  17.10  18.9  \n",
            "             CRIM          ZN       INDUS        CHAS         NOX          RM  \\\n",
            "count  506.000000  506.000000  506.000000  506.000000  506.000000  506.000000   \n",
            "mean     3.613524   11.363636   11.136779    0.069170    0.554695    6.284634   \n",
            "std      8.601545   23.322453    6.860353    0.253994    0.115878    0.702617   \n",
            "min      0.006320    0.000000    0.460000    0.000000    0.385000    3.561000   \n",
            "25%      0.082045    0.000000    5.190000    0.000000    0.449000    5.885500   \n",
            "50%      0.256510    0.000000    9.690000    0.000000    0.538000    6.208500   \n",
            "75%      3.677082   12.500000   18.100000    0.000000    0.624000    6.623500   \n",
            "max     88.976200  100.000000   27.740000    1.000000    0.871000    8.780000   \n",
            "\n",
            "              AGE         DIS         RAD         TAX     PTRATIO       LSTAT  \\\n",
            "count  506.000000  506.000000  506.000000  506.000000  506.000000  506.000000   \n",
            "mean    68.574901    3.795043    9.549407  408.237154   18.455534   12.653063   \n",
            "std     28.148861    2.105710    8.707259  168.537116    2.164946    7.141062   \n",
            "min      2.900000    1.129600    1.000000  187.000000   12.600000    1.730000   \n",
            "25%     45.025000    2.100175    4.000000  279.000000   17.400000    6.950000   \n",
            "50%     77.500000    3.207450    5.000000  330.000000   19.050000   11.360000   \n",
            "75%     94.075000    5.188425   24.000000  666.000000   20.200000   16.955000   \n",
            "max    100.000000   12.126500   24.000000  711.000000   22.000000   37.970000   \n",
            "\n",
            "             MEDV  \n",
            "count  506.000000  \n",
            "mean    22.532806  \n",
            "std      9.197104  \n",
            "min      5.000000  \n",
            "25%     17.025000  \n",
            "50%     21.200000  \n",
            "75%     25.000000  \n",
            "max     50.000000  \n"
          ],
          "name": "stdout"
        }
      ]
    },
    {
      "cell_type": "code",
      "metadata": {
        "id": "vt5ZMDK5VU_b",
        "colab": {
          "base_uri": "https://localhost:8080/",
          "height": 391
        },
        "outputId": "4ee9fc3e-f3e8-4846-c8b1-f6b721c79282"
      },
      "source": [
        "# 15X8 차트를 그림\r\n",
        "plt.figure(figsize=(15, 8))\r\n",
        "\r\n",
        "sns.set(font_scale=1.5)\r\n",
        "# Box plot : 자료의 5가지 요약 수치를 표현(min, max, outliers, IQR, median)\r\n",
        "#            중심부로부터의 데이터 밀집도 파악\r\n",
        "# 특이점이 많으면 정확도 떨어짐!\r\n",
        "sns.boxplot(data=raw, palette='dark')"
      ],
      "execution_count": null,
      "outputs": [
        {
          "output_type": "execute_result",
          "data": {
            "text/plain": [
              "<matplotlib.axes._subplots.AxesSubplot at 0x7f9c8d8d5a20>"
            ]
          },
          "metadata": {
            "tags": []
          },
          "execution_count": 4
        },
        {
          "output_type": "display_data",
          "data": {
            "image/png": "[encoded data removed]",
            "text/plain": [
              "<Figure size 1080x576 with 1 Axes>"
            ]
          },
          "metadata": {
            "tags": [],
            "needs_background": "light"
          }
        }
      ]
    },
    {
      "cell_type": "code",
      "metadata": {
        "id": "BJ-gXPJ9ZY5i",
        "colab": {
          "base_uri": "https://localhost:8080/"
        },
        "outputId": "98f80371-7b1e-4e42-d588-2492db31088b"
      },
      "source": [
        "# z-점수 정규화\r\n",
        "scaler = StandardScaler()\r\n",
        "\r\n",
        "z_data = scaler.fit_transform(raw)\r\n",
        "\r\n",
        "# 데이터 형식 출력\r\n",
        "print(type(raw)) # panda : 2차원 테이블\r\n",
        "print(type(z_data)) # numpy : n차원 행렬\r\n",
        "\r\n",
        "# numpy를 pandas로 재전환\r\n",
        "z_data = pd.DataFrame(z_data)\r\n",
        "print(type(z_data))\r\n",
        "\r\n",
        "# z-점수 정규화 된 데이터 샘플 출력\r\n",
        "# z-점수 정규화는 모든 데이터의 표준편차를 1, 평균을 0으로 맞춤.\r\n",
        "# 모든 요소들의 범위가 비슷해짐 = 표준 정규 분포\r\n",
        "print(z_data.head(10))\r\n",
        "print(z_data.describe())"
      ],
      "execution_count": null,
      "outputs": [
        {
          "output_type": "stream",
          "text": [
            "<class 'pandas.core.frame.DataFrame'>\n",
            "<class 'numpy.ndarray'>\n",
            "<class 'pandas.core.frame.DataFrame'>\n",
            "         0         1         2         3         4         5         6   \\\n",
            "0 -0.419782  0.284830 -1.287909 -0.272599 -0.144217  0.413672 -0.120013   \n",
            "1 -0.417339 -0.487722 -0.593381 -0.272599 -0.740262  0.194274  0.367166   \n",
            "2 -0.417342 -0.487722 -0.593381 -0.272599 -0.740262  1.282714 -0.265812   \n",
            "3 -0.416750 -0.487722 -1.306878 -0.272599 -0.835284  1.016303 -0.809889   \n",
            "4 -0.412482 -0.487722 -1.306878 -0.272599 -0.835284  1.228577 -0.511180   \n",
            "5 -0.417044 -0.487722 -1.306878 -0.272599 -0.835284  0.207096 -0.351157   \n",
            "6 -0.410243  0.048772 -0.476654 -0.272599 -0.265154 -0.388411 -0.070229   \n",
            "7 -0.403696  0.048772 -0.476654 -0.272599 -0.265154 -0.160466  0.978808   \n",
            "8 -0.395935  0.048772 -0.476654 -0.272599 -0.265154 -0.931206  1.117494   \n",
            "9 -0.400729  0.048772 -0.476654 -0.272599 -0.265154 -0.399808  0.616090   \n",
            "\n",
            "         7         8         9         10        11        12  \n",
            "0  0.140214 -0.982843 -0.666608 -1.459000 -1.075562  0.159686  \n",
            "1  0.557160 -0.867883 -0.987329 -0.303094 -0.492439 -0.101524  \n",
            "2  0.557160 -0.867883 -0.987329 -0.303094 -1.208727  1.324247  \n",
            "3  1.077737 -0.752922 -1.106115  0.113032 -1.361517  1.182758  \n",
            "4  1.077737 -0.752922 -1.106115  0.113032 -1.026501  1.487503  \n",
            "5  1.077737 -0.752922 -1.106115  0.113032 -1.043322  0.671222  \n",
            "6  0.839244 -0.523001 -0.577519 -1.505237 -0.031268  0.039964  \n",
            "7  1.024638 -0.523001 -0.577519 -1.505237  0.910700  0.497082  \n",
            "8  1.087196 -0.523001 -0.577519 -1.505237  2.421774 -0.656595  \n",
            "9  1.329635 -0.523001 -0.577519 -1.505237  0.623344 -0.395385  \n",
            "                 0             1             2             3             4   \\\n",
            "count  5.060000e+02  5.060000e+02  5.060000e+02  5.060000e+02  5.060000e+02   \n",
            "mean  -8.688702e-17  3.306534e-16  2.804081e-16 -3.100287e-16 -8.071058e-16   \n",
            "std    1.000990e+00  1.000990e+00  1.000990e+00  1.000990e+00  1.000990e+00   \n",
            "min   -4.197819e-01 -4.877224e-01 -1.557842e+00 -2.725986e-01 -1.465882e+00   \n",
            "25%   -4.109696e-01 -4.877224e-01 -8.676906e-01 -2.725986e-01 -9.130288e-01   \n",
            "50%   -3.906665e-01 -4.877224e-01 -2.110985e-01 -2.725986e-01 -1.442174e-01   \n",
            "75%    7.396560e-03  4.877224e-02  1.015999e+00 -2.725986e-01  5.986790e-01   \n",
            "max    9.933931e+00  3.804234e+00  2.422565e+00  3.668398e+00  2.732346e+00   \n",
            "\n",
            "                 5             6             7             8             9   \\\n",
            "count  5.060000e+02  5.060000e+02  5.060000e+02  5.060000e+02  5.060000e+02   \n",
            "mean  -5.978968e-17 -2.650493e-16  8.293761e-17  1.514379e-15 -9.934960e-16   \n",
            "std    1.000990e+00  1.000990e+00  1.000990e+00  1.000990e+00  1.000990e+00   \n",
            "min   -3.880249e+00 -2.335437e+00 -1.267069e+00 -9.828429e-01 -1.313990e+00   \n",
            "25%   -5.686303e-01 -8.374480e-01 -8.056878e-01 -6.379618e-01 -7.675760e-01   \n",
            "50%   -1.084655e-01  3.173816e-01 -2.793234e-01 -5.230014e-01 -4.646726e-01   \n",
            "75%    4.827678e-01  9.067981e-01  6.623709e-01  1.661245e+00  1.530926e+00   \n",
            "max    3.555044e+00  1.117494e+00  3.960518e+00  1.661245e+00  1.798194e+00   \n",
            "\n",
            "                 10            11            12  \n",
            "count  5.060000e+02  5.060000e+02  5.060000e+02  \n",
            "mean   4.493551e-16 -1.595123e-16 -4.247810e-16  \n",
            "std    1.000990e+00  1.000990e+00  1.000990e+00  \n",
            "min   -2.707379e+00 -1.531127e+00 -1.908226e+00  \n",
            "25%   -4.880391e-01 -7.994200e-01 -5.994557e-01  \n",
            "50%    2.748590e-01 -1.812536e-01 -1.450593e-01  \n",
            "75%    8.065758e-01  6.030188e-01  2.685231e-01  \n",
            "max    1.638828e+00  3.548771e+00  2.989460e+00  \n"
          ],
          "name": "stdout"
        }
      ]
    },
    {
      "cell_type": "code",
      "metadata": {
        "id": "t0W5ysw0kjpY",
        "colab": {
          "base_uri": "https://localhost:8080/",
          "height": 394
        },
        "outputId": "3eae4f25-4053-4de9-da0b-5a5542b772d1"
      },
      "source": [
        "# 15X8 차트를 그림\r\n",
        "plt.figure(figsize=(15, 8))\r\n",
        "\r\n",
        "sns.set(font_scale=1.5)\r\n",
        "# Box plot : 자료의 5가지 요약 수치를 표현(min, max, outliers, IQR, median)\r\n",
        "#            중심부로부터의 데이터 밀집도 파악\r\n",
        "sns.boxplot(data=z_data, palette='dark')"
      ],
      "execution_count": null,
      "outputs": [
        {
          "output_type": "execute_result",
          "data": {
            "text/plain": [
              "<matplotlib.axes._subplots.AxesSubplot at 0x7f9c8d4db5f8>"
            ]
          },
          "metadata": {
            "tags": []
          },
          "execution_count": 6
        },
        {
          "output_type": "display_data",
          "data": {
            "image/png": "[encoded data removed]",
            "text/plain": [
              "<Figure size 1080x576 with 1 Axes>"
            ]
          },
          "metadata": {
            "tags": []
          }
        }
      ]
    },
    {
      "cell_type": "code",
      "metadata": {
        "id": "vIWibtqglTmR",
        "colab": {
          "base_uri": "https://localhost:8080/"
        },
        "outputId": "ea42894d-6e8a-4aa6-8cc7-107f811bd8fc"
      },
      "source": [
        "# 데이터 모양(행-동네 개수, 열-영향 요소) 출력\r\n",
        "print('분리 전 :',z_data.shape)\r\n",
        "\r\n",
        "# 데이터를 입력(집값 제외 column)과 출력(집값)으로 분리\r\n",
        "# z-정규화로 인해 열 명이 숫자로 변환됨. 열 명은 숫자로 해야함! \r\n",
        "x_data = z_data.drop(12,axis=1) # 집값, 열을 드롭시킴\r\n",
        "y_data = z_data[12] # 출력\r\n",
        "\r\n",
        "# 데이터 모양 출력\r\n",
        "print('분리 후 : ', end=\"\")\r\n",
        "print(x_data.shape, end=\", \")\r\n",
        "print(y_data.shape) # 1차원 벡터를 표현하는 튜플이기 때문에 열이 공백으로 표현"
      ],
      "execution_count": null,
      "outputs": [
        {
          "output_type": "stream",
          "text": [
            "분리 전 : (506, 13)\n",
            "분리 후 : (506, 12), (506,)\n"
          ],
          "name": "stdout"
        }
      ]
    },
    {
      "cell_type": "code",
      "metadata": {
        "id": "TeTBrl4DrgQ2",
        "colab": {
          "base_uri": "https://localhost:8080/"
        },
        "outputId": "a8b6b200-356b-4702-f683-98986265ef50"
      },
      "source": [
        "# 데이터 4분할\r\n",
        "x_train, x_test,y_train, y_test = train_test_split(x_data,\r\n",
        "                                                   y_data,\r\n",
        "                                                   train_size=0.7)\r\n",
        "\r\n",
        "# 최종 데이터 모양 출력\r\n",
        "print('학습용 입력 데이터 모양 :', x_train.shape)\r\n",
        "print('학습용 출력 데이터 모양 :', y_train.shape)\r\n",
        "print('평가용 입력 데이터 모양 :', x_test.shape)\r\n",
        "print('평가용 출력 데이터 모양 :', y_test.shape)"
      ],
      "execution_count": null,
      "outputs": [
        {
          "output_type": "stream",
          "text": [
            "학습용 입력 데이터 모양 : (354, 12)\n",
            "학습용 출력 데이터 모양 : (354,)\n",
            "평가용 입력 데이터 모양 : (152, 12)\n",
            "평가용 출력 데이터 모양 : (152,)\n"
          ],
          "name": "stdout"
        }
      ]
    },
    {
      "cell_type": "markdown",
      "metadata": {
        "id": "-r4G6O9IwIdF"
      },
      "source": [
        "3. 인공 신경망 구현"
      ]
    },
    {
      "cell_type": "code",
      "metadata": {
        "id": "do3pnwvEwMVM",
        "colab": {
          "base_uri": "https://localhost:8080/"
        },
        "outputId": "f6a9ca09-1808-4791-9400-2cb564630770"
      },
      "source": [
        "# 왼쪽에서 오른쪽으로 순차적으로 신경망 추가\r\n",
        "# GAN에선 Sequential 사용 x\r\n",
        "model = Sequential()\r\n",
        "\r\n",
        "input = x_train.shape[1] # x_train의 모양 정보 중 2번째 (12)\r\n",
        "\r\n",
        "# 입력층과 은닉층 1 추가 / Dense(뉴런 개수, 입력층, 활성화 함수)\r\n",
        "# 활성화 함수 : 뉴런의 최종 출력값 필터링(선형 모델을 비선형으로 바꿔줌)\r\n",
        "# relu : 음수를 0으로\r\n",
        "model.add(Dense(units=MY_HIDDEN,\r\n",
        "                input_dim=input,\r\n",
        "                activation='relu'))\r\n",
        "\r\n",
        "# 은닉층 2 추가\r\n",
        "model.add(Dense(units=MY_HIDDEN,\r\n",
        "                activation='relu'))\r\n",
        "\r\n",
        "# 출력층 추가\r\n",
        "model.add(Dense(units=1))\r\n",
        "\r\n",
        "print('* DNN 요약 *')\r\n",
        "# Dense = fully conected : 완전 연결된 층들 사이의 선이 몇개인지\r\n",
        "# param 1 : 가중치(12000) + 편향(1000)\r\n",
        "# param 2 : 가중치(1000000) + 편향(1000)\r\n",
        "# param 3 : 가중치(1000) + 편향(1)\r\n",
        "model.summary()"
      ],
      "execution_count": null,
      "outputs": [
        {
          "output_type": "stream",
          "text": [
            "* DNN 요약 *\n",
            "Model: \"sequential\"\n",
            "_________________________________________________________________\n",
            "Layer (type)                 Output Shape              Param #   \n",
            "=================================================================\n",
            "dense (Dense)                (None, 1000)              13000     \n",
            "_________________________________________________________________\n",
            "dense_1 (Dense)              (None, 1000)              1001000   \n",
            "_________________________________________________________________\n",
            "dense_2 (Dense)              (None, 1)                 1001      \n",
            "=================================================================\n",
            "Total params: 1,015,001\n",
            "Trainable params: 1,015,001\n",
            "Non-trainable params: 0\n",
            "_________________________________________________________________\n"
          ],
          "name": "stdout"
        }
      ]
    },
    {
      "cell_type": "markdown",
      "metadata": {
        "id": "pAex_pi8lv4D"
      },
      "source": [
        "4. 인공 신경망 학습"
      ]
    },
    {
      "cell_type": "code",
      "metadata": {
        "id": "g8jHxo49lzqj",
        "colab": {
          "base_uri": "https://localhost:8080/"
        },
        "outputId": "2418b010-4287-4fe9-f48c-6fa217302417"
      },
      "source": [
        "# 학습 환경 설정\r\n",
        "# compile(최적 함수, 손실 함수)\r\n",
        "model.compile(optimizer='sgd',\r\n",
        "              loss='mse')\r\n",
        "\r\n",
        "print('학습 시작')\r\n",
        "begin = time()\r\n",
        "\r\n",
        "# 500번의 반복 학습, verbose를 0으로 하면 학습 상황을 출력하지 않음\r\n",
        "model.fit(x=x_train,\r\n",
        "          y=y_train,\r\n",
        "          epochs=MY_EPOCH,\r\n",
        "          verbose=0)\r\n",
        "\r\n",
        "end = time()\r\n",
        "# GPU 쓰면 학습 시간 빨라짐\r\n",
        "print('총 학습 시간 : {:.2f}초'.format(end - begin))"
      ],
      "execution_count": null,
      "outputs": [
        {
          "output_type": "stream",
          "text": [
            "학습 시작\n",
            "총 학습 시간 : 10.69초\n"
          ],
          "name": "stdout"
        }
      ]
    },
    {
      "cell_type": "markdown",
      "metadata": {
        "id": "6KMt8KZcp22i"
      },
      "source": [
        "5. 인공 신경망 평가"
      ]
    },
    {
      "cell_type": "code",
      "metadata": {
        "id": "NmZ7iXkzp1ls",
        "colab": {
          "base_uri": "https://localhost:8080/"
        },
        "outputId": "6b49be86-59ae-4d2c-aa55-d1fd47349cfa"
      },
      "source": [
        "# 신경망 평가\r\n",
        "loss = model.evaluate(x=x_test,\r\n",
        "                      y=y_test,\r\n",
        "                      verbose=0)\r\n",
        "\r\n",
        "# 소수점 이하 둘째 자리까지 출력\r\n",
        "print('최종 손실값 : {:.2f}'.format(loss))"
      ],
      "execution_count": null,
      "outputs": [
        {
          "output_type": "stream",
          "text": [
            "최종 손실값 : 0.15\n"
          ],
          "name": "stdout"
        }
      ]
    },
    {
      "cell_type": "code",
      "metadata": {
        "id": "Je--0tlsvkfA",
        "colab": {
          "base_uri": "https://localhost:8080/",
          "height": 642
        },
        "outputId": "0e9d57fa-e7e7-4f21-946d-3025109a56e3"
      },
      "source": [
        "# DNN으로 예측\r\n",
        "pred = model.predict(x=x_test)\r\n",
        "plt.figure(figsize=(10, 10))\r\n",
        "\r\n",
        "sns.regplot(x=y_test, y = pred)\r\n",
        "# 산포도가 정비례로 표현 : 정답과 모델이 추측한 값이 거의 비슷함\r\n",
        "# 인공지능의 회귀문제를 풀 때. 인공신경망의 정홛로를 시각화 하기 위해 산포도를 주로 사용"
      ],
      "execution_count": null,
      "outputs": [
        {
          "output_type": "execute_result",
          "data": {
            "text/plain": [
              "<matplotlib.axes._subplots.AxesSubplot at 0x7f9c8d4ede48>"
            ]
          },
          "metadata": {
            "tags": []
          },
          "execution_count": 12
        },
        {
          "output_type": "display_data",
          "data": {
            "image/png": "[encoded data removed]",
            "text/plain": [
              "<Figure size 720x720 with 1 Axes>"
            ]
          },
          "metadata": {
            "tags": []
          }
        }
      ]
    }
  ]
}